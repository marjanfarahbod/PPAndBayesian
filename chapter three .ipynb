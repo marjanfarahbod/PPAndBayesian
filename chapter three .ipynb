{
 "cells": [
  {
   "cell_type": "code",
   "execution_count": 15,
   "metadata": {
    "collapsed": false
   },
   "outputs": [],
   "source": [
    "import numpy as np\n",
    "import pymc as pm\n",
    "import scipy.stats as stats\n",
    "from IPython.core.pylabtools import figsize\n",
    "\n",
    "figsize(12.5, 4)\n",
    "\n",
    "data = np.loadtxt(\"mixture_data.csv\", delimiter=\",\")\n",
    "\n",
    "# p for the probability of belonging to cluster 0, ~p cluster 1\n",
    "p = pm.Uniform(\"p\", 0, 1)\n",
    "\n",
    "# assignment of the clusters randomly\n",
    "assignment = pm.Categorical(\"assignment\", [p, 1 -p], size=data.shape[0])\n",
    "\n",
    "# the variance of each cluster - to the power 2!\n",
    "taus = 1.0/pm.Uniform(\"stds\", 0, 100, size=2) ** 2\n",
    "# the mean of each cluster > this we get from the data, so maybe it is \n",
    "# emperical Bayes instead of Bayes?\n",
    "centers = pm.Normal(\"centers\", [120, 190], [.01, .01], size=2)\n",
    "\n",
    "@pm.deterministic\n",
    "def center_i(assignment=assignment, centers=centers):\n",
    "    return centers[assignment]\n",
    "\n",
    "@pm.deterministic\n",
    "def tau_i(assignment=assignment, taus=taus): \n",
    "    return taus[assignment]\n"
   ]
  },
  {
   "cell_type": "code",
   "execution_count": 23,
   "metadata": {
    "collapsed": false
   },
   "outputs": [],
   "source": [
    "observation = pm.Normal(\"obs\", center_i, tau_i, value = data, )\n",
    "\n",
    "modle = pm.Model([p, assignment, observation, taus, centers])"
   ]
  },
  {
   "cell_type": "code",
   "execution_count": 21,
   "metadata": {
    "collapsed": false
   },
   "outputs": [
    {
     "data": {
      "text/plain": [
       "array([ 0.00029522,  0.00011543])"
      ]
     },
     "execution_count": 21,
     "metadata": {},
     "output_type": "execute_result"
    }
   ],
   "source": [
    "taus.value[0:10]\n"
   ]
  }
 ],
 "metadata": {
  "kernelspec": {
   "display_name": "Python 2",
   "language": "python",
   "name": "python2"
  },
  "language_info": {
   "codemirror_mode": {
    "name": "ipython",
    "version": 2
   },
   "file_extension": ".py",
   "mimetype": "text/x-python",
   "name": "python",
   "nbconvert_exporter": "python",
   "pygments_lexer": "ipython2",
   "version": "2.7.11"
  }
 },
 "nbformat": 4,
 "nbformat_minor": 0
}
